{
 "cells": [
  {
   "cell_type": "markdown",
   "metadata": {
    "id": "8hjlpv4ix8LQ"
   },
   "source": [
    "# <center><u>Dream Premier League (DPL)</u>\n",
    "### A match of DPL is going on. Team Aravali has a made score of **195** for **7** in **20** overs and the opponent Team Shivalik is doing some analytics to find out what they need to do to win. You are the Data Scientist of the Team Shivalik and you have been asked to help them."
   ]
  },
  {
   "cell_type": "markdown",
   "metadata": {
    "id": "JkqzpQzX54Z-"
   },
   "source": [
    "## <u>Problem 1</u>\n",
    "\n",
    "### Team Shivalik has stored the runs made by Team Aravali players in the following dictionary.\n",
    "\n"
   ]
  },
  {
   "cell_type": "code",
   "execution_count": 4,
   "metadata": {
    "id": "rypcBaB37JMD"
   },
   "outputs": [],
   "source": [
    "aravali ={ \"Dhoni\":25, \"Virat\":31, \"Pollard\":11, \"Rohit\": 0, \"Maxwell\":12, \"Sachin\":59, \"Sehwag\":12 }"
   ]
  },
  {
   "cell_type": "markdown",
   "metadata": {
    "id": "747H1msbg-ns"
   },
   "source": [
    "### Get the list of all players in Team Aravali"
   ]
  },
  {
   "cell_type": "code",
   "execution_count": 5,
   "metadata": {
    "id": "poP0TCGdhLuj"
   },
   "outputs": [
    {
     "name": "stdout",
     "output_type": "stream",
     "text": [
      "Players in Aravali Team :  ['Dhoni', 'Virat', 'Pollard', 'Rohit', 'Maxwell', 'Sachin', 'Sehwag']\n"
     ]
    }
   ],
   "source": [
    "# Get the list of players in Team Aravali\n",
    "list_of_players=list(aravali.keys())\n",
    "print(\"Players in Aravali Team : \",list_of_players)"
   ]
  },
  {
   "cell_type": "markdown",
   "metadata": {
    "id": "YypMEr-i7fCE"
   },
   "source": [
    "## <u>Problem 2</u>\n",
    "\n",
    "### By mistake, the runs made by Rohit was recorded as <code>0</code>. Your next task is to figure out how many runs were made by Rohit and update the dictionary"
   ]
  },
  {
   "cell_type": "code",
   "execution_count": 6,
   "metadata": {
    "id": "DZTXlt9I51vd"
   },
   "outputs": [],
   "source": [
    "# We know the total runs\n",
    "total_score=195\n",
    "other_players=0\n",
    "for player,run in aravali.items():\n",
    "    if player!=\"Rohit\":\n",
    "        other_players += run\n",
    "actual_score_rohit = total_score - other_players\n",
    "aravali[\"Rohit\"]=actual_score_rohit"
   ]
  },
  {
   "cell_type": "code",
   "execution_count": 7,
   "metadata": {
    "id": "N46LGzE97waZ"
   },
   "outputs": [
    {
     "name": "stdout",
     "output_type": "stream",
     "text": [
      "Runs scored by Rohit :  45\n"
     ]
    }
   ],
   "source": [
    "# Print runs scored by Rohit\n",
    "print(\"Runs scored by Rohit : \",aravali[\"Rohit\"])"
   ]
  },
  {
   "cell_type": "code",
   "execution_count": 7,
   "metadata": {
    "id": "4rTAegi67zOq"
   },
   "outputs": [
    {
     "name": "stdout",
     "output_type": "stream",
     "text": [
      "Updated runs of Team Aravali: {'Dhoni': 25, 'Virat': 31, 'Pollard': 11, 'Rohit': 45, 'Maxwell': 12, 'Sachin': 59, 'Sehwag': 12}\n"
     ]
    }
   ],
   "source": [
    "# Update the dictionary with correct value of runs\n",
    "print(\"Updated runs of Team Aravali:\",aravali)"
   ]
  },
  {
   "cell_type": "markdown",
   "metadata": {
    "id": "iM1FJFlWh7C5"
   },
   "source": [
    "## <u>Problem 3</u>\n",
    "\n",
    "#### Your next task is to find out who scored the second highest runs in Team Aravali"
   ]
  },
  {
   "cell_type": "code",
   "execution_count": 8,
   "metadata": {
    "id": "YPdfTlsKiWVx"
   },
   "outputs": [
    {
     "name": "stdout",
     "output_type": "stream",
     "text": [
      "('Rohit', 45)\n"
     ]
    }
   ],
   "source": [
    "# Your code below\n",
    "players_sorted=sorted(aravali.items(), key=lambda x:x[1], reverse=True)\n",
    "second_highest=players_sorted[1]\n",
    "print(second_highest)\n",
    "\n",
    "\n"
   ]
  },
  {
   "cell_type": "markdown",
   "metadata": {
    "id": "se80XQGBGekX"
   },
   "source": [
    "## <u>Problem 4</u>\n",
    "\n",
    "#### Just out of curiosity, you want to find out the unique runs made by Team Aravali players."
   ]
  },
  {
   "cell_type": "code",
   "execution_count": null,
   "metadata": {
    "id": "X-XQWW4lGZaG"
   },
   "outputs": [],
   "source": [
    "# Your code below\n",
    "r_set = set(aravali.values())"
   ]
  },
  {
   "cell_type": "code",
   "execution_count": null,
   "metadata": {
    "id": "GL56nYUzF6hs"
   },
   "outputs": [
    {
     "name": "stdout",
     "output_type": "stream",
     "text": [
      "Unique runs scored by Aravali players:  {11, 12, 45, 25, 59, 31}\n"
     ]
    }
   ],
   "source": [
    "# Print the unique runs\n",
    "print(\"Unique runs scored by Aravali players: \",r_set)"
   ]
  },
  {
   "cell_type": "markdown",
   "metadata": {
    "id": "IJvnHaNzeGMP"
   },
   "source": [
    "## <u>Problem 5</u>\n",
    "#### Team Shivalik has 6 fixed players and 5 slots for players who are playing good currently. Create two collections using appropriate data structure to write this 6 fixed and 5 mutable players. You can choose any player you want.\n",
    "\n",
    "#### Available Players in the squad :\n",
    "<code>['Vijay', 'Lasith', 'Dravid', 'Smith', 'Ambati', 'Hardik', 'Sushant', 'Mandeep', 'Harbhajan', 'Yuvraj', 'Jadeja','Rajeev','Amrit']\n"
   ]
  },
  {
   "cell_type": "code",
   "execution_count": 12,
   "metadata": {
    "id": "-0hTOMTQdEXE"
   },
   "outputs": [],
   "source": [
    "# Your code below\n",
    "available = ['Vijay', 'Lasith', 'Dravid', 'Smith', 'Ambati', 'Hardik', 'Sushant', 'Mandeep', 'Harbhajan', 'Yuvraj', 'Jadeja','Rajeev','Amrit']\n",
    "fixed = ('Vijay', 'Lasith', 'Dravid', 'Smith', 'Ambati', 'Hardik')\n",
    "mutable = {'Sushant', 'Mandeep','Harbhajan', 'Yuvraj', 'Jadeja'}"
   ]
  },
  {
   "cell_type": "code",
   "execution_count": 19,
   "metadata": {
    "id": "1PEvrGDwfjc5"
   },
   "outputs": [
    {
     "name": "stdout",
     "output_type": "stream",
     "text": [
      "Fixed players in shivalik team: Vijay,Lasith,Dravid,Smith,Ambati,Hardik\n"
     ]
    }
   ],
   "source": [
    "# Print them on same line using comma to seperate them\n",
    "print(\"Fixed players in shivalik team:\",\",\".join(fixed))"
   ]
  },
  {
   "cell_type": "markdown",
   "metadata": {
    "id": "N-VdT09NfhL6"
   },
   "source": [
    "## <u>Problem 6</u>\n",
    "Try changing fixed player and mutable player"
   ]
  },
  {
   "cell_type": "code",
   "execution_count": 9,
   "metadata": {
    "id": "E4lN-bxbffnF"
   },
   "outputs": [
    {
     "name": "stdout",
     "output_type": "stream",
     "text": [
      "Updated Team: ('Rajeev', 'Rahul', 'Arjun')\n"
     ]
    }
   ],
   "source": [
    "# Change fixed player\n",
    "def update_team(players_tuple, old_member, new_member):\n",
    "    if old_member not in players_tuple:\n",
    "        print(f\"{old_member} is not in the team list.\")\n",
    "        return players_tuple\n",
    "    team_list = list(players_tuple)\n",
    "    index = team_list.index(old_member)\n",
    "    team_list[index] = new_member\n",
    "    return tuple(team_list)\n",
    "\n",
    "team = ('Vijay', 'Rahul', 'Arjun')  # Example initial tuple\n",
    "team = update_team(team, 'Vijay', 'Rajeev')\n",
    "print(\"Updated Team:\", team)\n"
   ]
  },
  {
   "cell_type": "code",
   "execution_count": null,
   "metadata": {
    "id": "mbfWHggRgYJK"
   },
   "outputs": [
    {
     "ename": "NameError",
     "evalue": "name 'squad' is not defined",
     "output_type": "error",
     "traceback": [
      "\u001b[1;31m---------------------------------------------------------------------------\u001b[0m",
      "\u001b[1;31mNameError\u001b[0m                                 Traceback (most recent call last)",
      "Cell \u001b[1;32mIn[10], line 13\u001b[0m\n\u001b[0;32m     10\u001b[0m     \u001b[38;5;28;01melse\u001b[39;00m:\n\u001b[0;32m     11\u001b[0m         \u001b[38;5;28mprint\u001b[39m(\u001b[38;5;124mf\u001b[39m\u001b[38;5;124m\"\u001b[39m\u001b[38;5;132;01m{\u001b[39;00mincoming_player\u001b[38;5;132;01m}\u001b[39;00m\u001b[38;5;124m is not in the player pool!\u001b[39m\u001b[38;5;124m\"\u001b[39m)\n\u001b[1;32m---> 13\u001b[0m update_squad(squad, \u001b[38;5;124m'\u001b[39m\u001b[38;5;124mSushant\u001b[39m\u001b[38;5;124m'\u001b[39m, \u001b[38;5;124m'\u001b[39m\u001b[38;5;124mRajeev\u001b[39m\u001b[38;5;124m'\u001b[39m)\n\u001b[0;32m     14\u001b[0m \u001b[38;5;28mprint\u001b[39m(\u001b[38;5;124m\"\u001b[39m\u001b[38;5;124mUpdated Squad:\u001b[39m\u001b[38;5;124m\"\u001b[39m, squad)\n",
      "\u001b[1;31mNameError\u001b[0m: name 'squad' is not defined"
     ]
    }
   ],
   "source": [
    "# Change mutable player\n",
    "def change_mutable_player(mutable_set, old_player, new_player):\n",
    "    if old_player in mutable_set:\n",
    "        mutable_set.remove(old_player)  # Remove the existing player\n",
    "        print(f\"Removed {old_player}\")\n",
    "    \n",
    "    if new_player in available:\n",
    "        mutable_set.add(new_player)  # Add the new player\n",
    "        print(f\"Added {new_player}\")\n",
    "    else:\n",
    "        print(f\"{new_player} is not in the available squad!\")\n",
    "change_mutable_player(mutable, 'Sushant', 'Rajeev')\n",
    "print(\"Updated Mutable Players:\", mutable)"
   ]
  },
  {
   "cell_type": "markdown",
   "metadata": {
    "id": "KHrH5V0HFFhq"
   },
   "source": [
    "## <u> Problem 7</u>\n",
    "\n",
    "#### Find out the runrate required for Team Shivalik to win (for 20 overs)<br>\n",
    "#### Hint: Runrate is runs required per over to win the match"
   ]
  },
  {
   "cell_type": "code",
   "execution_count": 11,
   "metadata": {
    "id": "QFd1CnS5E79X"
   },
   "outputs": [],
   "source": [
    "target_runrate = 180  \n",
    "current_runrate = 0\n",
    "total_overs = 20\n",
    "required_runrate = target_runrate - current_runrate\n",
    "runrate = required_runrate / total_overs"
   ]
  },
  {
   "cell_type": "code",
   "execution_count": 12,
   "metadata": {
    "id": "7f5Mnj93Ft3a"
   },
   "outputs": [
    {
     "name": "stdout",
     "output_type": "stream",
     "text": [
      "Team Shivalik needs 180 runs in 20 overs.\n",
      "Required Run Rate: 9.00 runs per over.\n"
     ]
    }
   ],
   "source": [
    "# Print the run rate\n",
    "print(f\"Team Shivalik needs {required_runrate} runs in {total_overs} overs.\")\n",
    "print(f\"Required Run Rate: {runrate:.2f} runs per over.\")"
   ]
  },
  {
   "cell_type": "markdown",
   "metadata": {
    "id": "uukQzwZQNwBE"
   },
   "source": [
    "## <u> Problem 8</u>\n",
    "#### You have just received a secret message form your informant stating that some players of the other team are into match fixing. You have to decode a message and inform authorities about it.<br>\n",
    "\n",
    "#### You received a string **\"skdlfjnvuerhw qefnnaosfu qrhviudhfv wuirhv adknlkxjcier vafuvhkajn iuvhsf vasuif KJSHFKJ aeuihvasf akjfhiufe\"** and index of \"i\" are going to be \"no balls\".\n",
    "\n",
    "\n",
    "### Find the first and last no ball from the string."
   ]
  },
  {
   "cell_type": "code",
   "execution_count": 13,
   "metadata": {
    "id": "qJpki-fNJxvr"
   },
   "outputs": [],
   "source": [
    "#First no ball\n",
    "message = \"skdlfjnvuerhw qefnnaosfu qrhviudhfv wuirhv adknlkxjcier vafuvhkajn iuvhsf vasuif KJSHFKJ aeuihvasf akjfhiufe\"\n",
    "indices = [index for index, character in enumerate(message) if character == 'i']\n",
    "if indices:\n",
    "    firstball = indices[0]\n",
    "    lastball = indices[-1]\n",
    "else:\n",
    "    print(\"No 'i' found in the message.\")"
   ]
  },
  {
   "cell_type": "code",
   "execution_count": 14,
   "metadata": {
    "id": "8qMvmZydQAlr"
   },
   "outputs": [
    {
     "name": "stdout",
     "output_type": "stream",
     "text": [
      "First no ball at index: 29\n",
      "Last no ball at index: 104\n"
     ]
    }
   ],
   "source": [
    "# Print the first and last ball numbers\n",
    "print(f\"First no ball at index: {firstball}\")\n",
    "print(f\"Last no ball at index: {lastball}\")"
   ]
  },
  {
   "cell_type": "markdown",
   "metadata": {
    "id": "dOIGKmlKaV8j"
   },
   "source": [
    "## <u>Problem 9</u>\n",
    "\n",
    "### You have given the information about fixing to the authorities and they are going to verify it during the match. But still you have to work on your strategy.\n",
    "\n",
    "### It is in your hands to automate the decision on who goes on 4th position for batting depending on following criteria:\n",
    "\n",
    "* if runs made by Team Shivalik is less than 50, Smith will play\n",
    "* if runs are between 51 to 100 then Sir Jadeja will go\n",
    "* if runs are above 100 then Hardik will play"
   ]
  },
  {
   "cell_type": "code",
   "execution_count": 16,
   "metadata": {
    "id": "DpnGURU1Y-Af"
   },
   "outputs": [
    {
     "name": "stdout",
     "output_type": "stream",
     "text": [
      "The player going at 4th position for batting is: Sir Jadeja\n"
     ]
    }
   ],
   "source": [
    "# Your code below\n",
    "B_runs = int(input())\n",
    "# Decision based on runs scored\n",
    "if B_runs < 50:\n",
    "    player = \"Smith\"\n",
    "elif 51 <= B_runs <= 100:\n",
    "    player = \"Sir Jadeja\"\n",
    "else:\n",
    "    player = \"Hardik\"\n",
    "\n",
    "# Output the decision\n",
    "print(f\"The player going at 4th position for batting is: {player}\")"
   ]
  },
  {
   "cell_type": "markdown",
   "metadata": {
    "id": "kLakmjOYmKMM"
   },
   "source": [
    "# Hurray! Turns out you won the match and the guilty players are punished as well. You should be proud of yourself!"
   ]
  }
 ],
 "metadata": {
  "colab": {
   "provenance": []
  },
  "kernelspec": {
   "display_name": "base",
   "language": "python",
   "name": "python3"
  },
  "language_info": {
   "codemirror_mode": {
    "name": "ipython",
    "version": 3
   },
   "file_extension": ".py",
   "mimetype": "text/x-python",
   "name": "python",
   "nbconvert_exporter": "python",
   "pygments_lexer": "ipython3",
   "version": "3.12.7"
  }
 },
 "nbformat": 4,
 "nbformat_minor": 1
}
