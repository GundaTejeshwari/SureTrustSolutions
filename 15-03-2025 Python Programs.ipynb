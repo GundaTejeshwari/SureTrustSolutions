{
 "cells": [
  {
   "cell_type": "markdown",
   "id": "b7dd1b78",
   "metadata": {},
   "source": [
    "Write a Python program to calculate Euclidean Distance. \n",
    "Example 1: \n",
    "Input: \n",
    "Given First point values P(x1, y1) : 6 , 7 \n",
    "Given second point values Q(x2, y2) : 5, 4 \n",
    "Output: \n",
    "The Euclidean Distance between the above given two points 'PQ' = 3.1622776601683795 "
   ]
  },
  {
   "cell_type": "code",
   "execution_count": 2,
   "id": "cc2477be",
   "metadata": {},
   "outputs": [
    {
     "name": "stdout",
     "output_type": "stream",
     "text": [
      "P(6, 7)\n",
      "Q(5, 4)\n",
      "The Euclidean Distance between 'PQ' is :3.1622776601683795\n",
      "(OR)\n",
      "The Euclidean Distance between 'PQ' is :3.16228\n"
     ]
    }
   ],
   "source": [
    "import math\n",
    "\n",
    "x1,y1 = map(int,input(\"Enter x1 and y1: \").split())\n",
    "x2,y2 = map(int,input(\"Enter x2 and y2: \").split())\n",
    "distance=math.sqrt((x2-x1)**2 + (y2-y1)**2)\n",
    "print(f\"P({x1}, {y1})\")\n",
    "print(f\"Q({x2}, {y2})\")\n",
    "print(f\"The Euclidean Distance between 'PQ' is :{distance}\")\n",
    "print(\"(OR)\")\n",
    "print(f\"The Euclidean Distance between 'PQ' is :{distance:.5f}\")"
   ]
  },
  {
   "cell_type": "markdown",
   "id": "00d08ece",
   "metadata": {},
   "source": [
    "Question 2: Reverse User Input for Data Processing\n",
    "\n",
    "Imagine you are developing a secure system for user input validation, and part of the system\n",
    "involves reversing strings (such as passwords or IDs) for a unique encryption method.\n",
    "Write a Python program that accepts a string from the user and returns it in reverse order. This\n",
    "could simulate part of a process where data is transformed before being stored or transmitted\n",
    "securely.\n",
    "Example 1:\n",
    "Input:\n",
    "1234abcd\n",
    "Output:\n",
    "dcba4321\n",
    "Explanation:\n",
    "Reverse of 1234abcd is dcba4321\n",
    "Example 2:\n",
    "Input:\n",
    "Python@123\n",
    "Output:\n",
    "321@nohtyP\n",
    "Explanation:\n",
    "Reverse of Python@123 is 321@nohtyP"
   ]
  },
  {
   "cell_type": "code",
   "execution_count": 3,
   "id": "6c423146",
   "metadata": {},
   "outputs": [
    {
     "name": "stdout",
     "output_type": "stream",
     "text": [
      "Reversed String:dcba4321\n"
     ]
    }
   ],
   "source": [
    "str=input(\"Enter a string:\")\n",
    "reversed_str=str[::-1]\n",
    "print(f\"Reversed String:{reversed_str}\")"
   ]
  },
  {
   "cell_type": "markdown",
   "id": "aa28eb79",
   "metadata": {},
   "source": [
    "Question 3: Finding indices of Closest Temperatures \n",
    "Imagine you work for a weather station, and you have a list of temperatures recorded \n",
    "throughout the day. Your job is to find which two temperatures in the list are the most similar \n",
    "(closest in value). Once you find the two closest temperatures, you need to tell their positions \n",
    "(indices) in the list. \n",
    "Note: \"Closest\", we mean finding two numbers that have the smallest difference between \n",
    "them. \n",
    "Example 1: \n",
    "Input: \n",
    "[1, 7, 9, 2, 10] \n",
    "Output: \n",
    "[0, 3] \n",
    "Explanation: \n",
    "The output [0, 3] represents the indices of the closest pair of numbers in the list [1, 7, 9, 2, 10]. \n",
    "The numbers at indices 0 and 3 are 1 and 2, which have the smallest difference (1). \n",
    "Example 2: \n",
    "Input: \n",
    "[5, 8, 12, 15, 7] \n",
    "Output: \n",
    "[4, 1] "
   ]
  },
  {
   "cell_type": "code",
   "execution_count": 10,
   "id": "83b53cc3",
   "metadata": {},
   "outputs": [
    {
     "name": "stdout",
     "output_type": "stream",
     "text": [
      "Example 1\n",
      "[0, 3]\n"
     ]
    }
   ],
   "source": [
    "def find_closest_temperatures(temps):\n",
    "    min_diff = float('inf')  \n",
    "    index1, index2 = 0, 1  \n",
    "    for i in range(len(temps)):\n",
    "        for j in range(i + 1, len(temps)):  \n",
    "            diff = abs(temps[i] - temps[j])  \n",
    "            if diff < min_diff:\n",
    "                min_diff = diff\n",
    "                index1, index2 = i, j  \n",
    "    return [index1, index2]  \n",
    "print(\"Example 1\")\n",
    "print(find_closest_temperatures([1, 7, 9, 2, 10]))  \n"
   ]
  },
  {
   "cell_type": "markdown",
   "id": "a63c8192",
   "metadata": {},
   "source": [
    "Question 4: Strange Sort: Alternating Smallest and Largest \n",
    "In an amusement park ticket queue, visitors are sorted in a strange manner. The smallest \n",
    "number (representing the youngest visitor) stands first, followed by the oldest visitor. The next \n",
    "youngest visitor stands next, followed by the next oldest visitor, and so on. Write a Python \n",
    "program to sort a list of numbers in such a “strange sort,” where the first element is the \n",
    "smallest, the second is the largest, the third is the next smallest, and so on. \n",
    "Example 1: \n",
    "Input: \n",
    "[1, 3, 4, 5, 11] \n",
    "Output: \n",
    "[1, 11, 3, 5, 4] \n",
    "Explanation: \n",
    "The smallest element is 1, then the largest is 11, followed by the next smallest (3), the next \n",
    "largest (5), and the remaining element (4). \n",
    "Example 2: \n",
    "Input: \n",
    "[7, 2, 10, 4, 8] \n",
    "Output: \n",
    "[2, 10, 4, 8, 7] "
   ]
  },
  {
   "cell_type": "code",
   "execution_count": 21,
   "id": "f7d57ad5",
   "metadata": {},
   "outputs": [],
   "source": [
    "def strange_sort(arr):\n",
    "    arr.sort()\n",
    "    result=[]\n",
    "    left,right=0,len(arr)-1\n",
    "    while left<=right:\n",
    "        result.append(arr[left])\n",
    "        left+=1 \n",
    "        if left <= right:\n",
    "            result.append(arr[right])\n",
    "            right-=1\n",
    "    return result\n"
   ]
  },
  {
   "cell_type": "code",
   "execution_count": 24,
   "id": "2a316f5e",
   "metadata": {},
   "outputs": [
    {
     "name": "stdout",
     "output_type": "stream",
     "text": [
      "The user input will be  [1, 3, 4, 5, 11]\n",
      "The strange sort for the given inputs will be:  [1, 11, 3, 5, 4]\n"
     ]
    }
   ],
   "source": [
    "nums=list(map(int,input().split(',')))\n",
    "print(\"The user input will be \",nums)\n",
    "print(\"The strange sort for the given inputs will be: \",strange_sort(nums))"
   ]
  },
  {
   "cell_type": "markdown",
   "id": "17f82891",
   "metadata": {},
   "source": [
    "Question 5: Check if a String is Pangram \n",
    "You are designing a chatbot for an e-commerce platform. The chatbot is expected to understand \n",
    "and respond to user queries efficiently. To ensure that it can handle diverse inputs, you need to \n",
    "verify that its internal processing covers all possible alphabetical characters. A pangram is a \n",
    "sentence that contains every letter of the English alphabet at least once. \n",
    "Write a Python function that takes a string as input and checks whether the string is a pangram \n",
    "(contains every letter of the alphabet at least once). \n",
    "Example 1: \n",
    "Input: \n",
    "The quick brown fox jumps over the lazy dog \n",
    "Output: \n",
    "True \n",
    "Explanation: \n",
    "This is a famous pangram that contains all the letters of the alphabet. \n",
    "Example 2: \n",
    "Input: \n",
    "Pack my box with five dozen liquor jugs. \n",
    "Output: \n",
    "True \n",
    "Explanation: \n",
    "This is a famous pangram that contains all the letters of the alphabet. \n",
    "Example 3: \n",
    "Input: \n",
    "I love programming in Python \n",
    "Output: \n",
    "False "
   ]
  },
  {
   "cell_type": "code",
   "execution_count": 19,
   "id": "a118996c",
   "metadata": {},
   "outputs": [
    {
     "name": "stdout",
     "output_type": "stream",
     "text": [
      "User input :  I love programming in python\n",
      "False\n"
     ]
    }
   ],
   "source": [
    "import string \n",
    "def is_pangram(sentence):\n",
    "    sentence=sentence.lower()\n",
    "    for letter in string.ascii_lowercase:\n",
    "        if letter not in sentence:\n",
    "            return False \n",
    "    return True\n",
    "sentence=input()\n",
    "print(\"User input : \",sentence)\n",
    "print(is_pangram(sentence))"
   ]
  }
 ],
 "metadata": {
  "kernelspec": {
   "display_name": "base",
   "language": "python",
   "name": "python3"
  },
  "language_info": {
   "codemirror_mode": {
    "name": "ipython",
    "version": 3
   },
   "file_extension": ".py",
   "mimetype": "text/x-python",
   "name": "python",
   "nbconvert_exporter": "python",
   "pygments_lexer": "ipython3",
   "version": "3.12.7"
  }
 },
 "nbformat": 4,
 "nbformat_minor": 5
}
